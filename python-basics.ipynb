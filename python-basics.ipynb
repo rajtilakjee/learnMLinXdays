{
 "cells": [
  {
   "cell_type": "markdown",
   "id": "e24b7a1d-1af5-47f0-87ef-67f439fd44b8",
   "metadata": {},
   "source": [
    "# Python Basics"
   ]
  },
  {
   "cell_type": "markdown",
   "id": "275a0253-43bc-4d62-86f4-4a99c4b3820f",
   "metadata": {},
   "source": [
    "## Python Installation"
   ]
  },
  {
   "cell_type": "markdown",
   "id": "10f88671-83c9-46e2-b94f-6c121fb46dd2",
   "metadata": {},
   "source": [
    "Refer to the following articles for detailed instructions on installing Python for your platform:\n",
    "- [How to Install Python on Your System: A Guide](https://realpython.com/installing-python/)\n",
    "- [Download Python](https://www.python.org/downloads/)\n",
    "- [How to Install Python - The Right Way](https://www.youtube.com/watch?v=YKSpANU8jPE) - Video"
   ]
  },
  {
   "cell_type": "markdown",
   "id": "481647ca-2572-4979-8e0d-c6ab207460aa",
   "metadata": {},
   "source": [
    "## IDE Installation"
   ]
  },
  {
   "cell_type": "markdown",
   "id": "9cf14201-9f93-40ee-87dd-b526942551da",
   "metadata": {},
   "source": [
    "Here are the instructions on how to install some of the popular IDEs\n",
    "- [VS Code](https://code.visualstudio.com/docs/setup/setup-overview)\n",
    "- [Jupyter Notebook](https://docs.jupyter.org/en/latest/install/notebook-classic.html)\n",
    "- [Anaconda](https://docs.anaconda.com/anaconda/install/)\n",
    "- [PyCharm](https://www.jetbrains.com/help/pycharm/installation-guide.html)"
   ]
  },
  {
   "cell_type": "markdown",
   "id": "d8225210-f456-4756-b360-aae1c86bcd82",
   "metadata": {},
   "source": [
    "## Variables, Numbers, Strings"
   ]
  },
  {
   "cell_type": "markdown",
   "id": "edb485ff-7760-4511-8bfd-0e730b0374fc",
   "metadata": {},
   "source": [
    "- Variables in Python are used to store data values.\n",
    "- Variable names cannot be Python keywords (reserved words)."
   ]
  },
  {
   "cell_type": "code",
   "execution_count": 1,
   "id": "08b810d5-bfd4-448e-8958-eaef5aedb966",
   "metadata": {},
   "outputs": [
    {
     "name": "stdout",
     "output_type": "stream",
     "text": [
      "ice cream\n"
     ]
    }
   ],
   "source": [
    "# Assigning a variable with dynamic typing (can hold different data types)\n",
    "foo = 50\n",
    "foo = \"ice cream\"\n",
    "print(foo)"
   ]
  },
  {
   "cell_type": "code",
   "execution_count": 2,
   "id": "c5d731db-9182-4d9e-a449-7da2e9fb3614",
   "metadata": {},
   "outputs": [
    {
     "name": "stdout",
     "output_type": "stream",
     "text": [
      "ice\n"
     ]
    }
   ],
   "source": [
    "# Slicing a string: [0:3] includes the 0th character up to, but not including, the 3rd character\n",
    "print(foo[0:3])"
   ]
  },
  {
   "cell_type": "code",
   "execution_count": 3,
   "id": "0ead0130-0076-410a-b161-542cea0af976",
   "metadata": {},
   "outputs": [
    {
     "name": "stdout",
     "output_type": "stream",
     "text": [
      "ice\n",
      "cream\n"
     ]
    }
   ],
   "source": [
    "# Leaving the start index blank defaults to the beginning of the string\n",
    "print(foo[:3])\n",
    "\n",
    "# Leaving the end index blank goes to the end of the string\n",
    "# Equivalent to foo[4:len(foo)]\n",
    "print(foo[4:])"
   ]
  },
  {
   "cell_type": "code",
   "execution_count": 4,
   "id": "142568e8-ec69-490d-8aa3-4ac0821b15cf",
   "metadata": {},
   "outputs": [
    {
     "name": "stdout",
     "output_type": "stream",
     "text": [
      "ice \n"
     ]
    }
   ],
   "source": [
    "# A negative index starts counting from the end of the string\n",
    "print(foo[:-5])"
   ]
  },
  {
   "cell_type": "code",
   "execution_count": 5,
   "id": "8ceae63a-e0df-44eb-b2da-98f8341e1b07",
   "metadata": {},
   "outputs": [
    {
     "name": "stdout",
     "output_type": "stream",
     "text": [
      "m\n",
      "c\n"
     ]
    }
   ],
   "source": [
    "# Two indices give a range of characters; a single index returns one character\n",
    "print(foo[-1])  # Last character\n",
    "print(foo[4])   # Character at index 4"
   ]
  },
  {
   "cell_type": "code",
   "execution_count": 6,
   "id": "5d845f6d-5dec-4ac2-8f06-523ce159dc47",
   "metadata": {},
   "outputs": [
    {
     "ename": "TypeError",
     "evalue": "'str' object does not support item assignment",
     "output_type": "error",
     "traceback": [
      "\u001b[1;31m------------------------------------------------------------\u001b[0m",
      "\u001b[1;31mTypeError\u001b[0m                  Traceback (most recent call last)",
      "Cell \u001b[1;32mIn[6], line 3\u001b[0m\n\u001b[0;32m      1\u001b[0m \u001b[38;5;66;03m# Strings are immutable, meaning you cannot modify individual characters\u001b[39;00m\n\u001b[0;32m      2\u001b[0m foo \u001b[38;5;241m=\u001b[39m \u001b[38;5;124m\"\u001b[39m\u001b[38;5;124mice cream\u001b[39m\u001b[38;5;124m\"\u001b[39m\n\u001b[1;32m----> 3\u001b[0m \u001b[43mfoo\u001b[49m\u001b[43m[\u001b[49m\u001b[38;5;241;43m0\u001b[39;49m\u001b[43m]\u001b[49m \u001b[38;5;241m=\u001b[39m \u001b[38;5;124m\"\u001b[39m\u001b[38;5;124mn\u001b[39m\u001b[38;5;124m\"\u001b[39m  \u001b[38;5;66;03m# This will raise a TypeError\u001b[39;00m\n",
      "\u001b[1;31mTypeError\u001b[0m: 'str' object does not support item assignment"
     ]
    }
   ],
   "source": [
    "# Strings are immutable, meaning you cannot modify individual characters\n",
    "foo = \"ice cream\"\n",
    "foo[0] = \"n\"  # This will raise a TypeError"
   ]
  },
  {
   "cell_type": "code",
   "execution_count": 7,
   "id": "92e1d7bd-4061-46c0-828f-fea4a6cadd6f",
   "metadata": {},
   "outputs": [
    {
     "name": "stdout",
     "output_type": "stream",
     "text": [
      "['False', 'None', 'True', 'and', 'as', 'assert', 'async', 'await', 'break', 'class', 'continue', 'def', 'del', 'elif', 'else', 'except', 'finally', 'for', 'from', 'global', 'if', 'import', 'in', 'is', 'lambda', 'nonlocal', 'not', 'or', 'pass', 'raise', 'return', 'try', 'while', 'with', 'yield']\n"
     ]
    }
   ],
   "source": [
    "# Python keywords are stored in the 'keyword' module\n",
    "import keyword\n",
    "print(keyword.kwlist)"
   ]
  },
  {
   "cell_type": "markdown",
   "id": "c49e1867-47a1-41fe-8c3a-f61f489dab35",
   "metadata": {},
   "source": [
    "## Lists"
   ]
  },
  {
   "cell_type": "markdown",
   "id": "300c1ad7-d1e6-4999-9b4a-48df5ae91251",
   "metadata": {},
   "source": [
    "- Lists store a collection of objects\n",
    "- Lists are mutable, meaning their contents can be changed"
   ]
  },
  {
   "cell_type": "code",
   "execution_count": 8,
   "id": "20e22461-8c3c-4a1c-81d1-d42b789e26d5",
   "metadata": {},
   "outputs": [],
   "source": [
    "# Storing a list of items in a variable\n",
    "items = [\"fruits\", \"veggies\", \"groceries\"]"
   ]
  },
  {
   "cell_type": "code",
   "execution_count": 9,
   "id": "8d9b7053-a88c-4b4f-8513-f794f01d33cf",
   "metadata": {},
   "outputs": [
    {
     "name": "stdout",
     "output_type": "stream",
     "text": [
      "<class 'list'>\n"
     ]
    }
   ],
   "source": [
    "# Checking the type of the variable 'items'\n",
    "print(type(items))"
   ]
  },
  {
   "cell_type": "code",
   "execution_count": 10,
   "id": "0aff2347-18e7-4d52-8d2a-8ac9a8c95ce6",
   "metadata": {},
   "outputs": [
    {
     "name": "stdout",
     "output_type": "stream",
     "text": [
      "veggies\n"
     ]
    }
   ],
   "source": [
    "# Similar to strings, list elements can be accessed using indexes\n",
    "print(items[1])  # Accesses the second item in the list"
   ]
  },
  {
   "cell_type": "code",
   "execution_count": 11,
   "id": "8eb71af2-53f3-438d-9f32-e9c3aaa31125",
   "metadata": {},
   "outputs": [
    {
     "name": "stdout",
     "output_type": "stream",
     "text": [
      "['fruits', 'veggies']\n"
     ]
    }
   ],
   "source": [
    "# Slicing the list: items[:2] gives the elements from the start up to, but not including, index 2\n",
    "print(items[:2])"
   ]
  },
  {
   "cell_type": "code",
   "execution_count": 12,
   "id": "df641f15-c2ba-4b4a-9643-2ae2a9e978c6",
   "metadata": {},
   "outputs": [
    {
     "name": "stdout",
     "output_type": "stream",
     "text": [
      "['biryani', 'veggies', 'groceries']\n"
     ]
    }
   ],
   "source": [
    "# Mutating a list: changing the value of an element at index 0\n",
    "items[0] = \"biryani\"\n",
    "print(items)"
   ]
  },
  {
   "cell_type": "code",
   "execution_count": 13,
   "id": "97e1e501-2af1-4237-b099-3f2d17171e4e",
   "metadata": {},
   "outputs": [
    {
     "name": "stdout",
     "output_type": "stream",
     "text": [
      "['biryani', 'veggies', 'groceries', 'butter']\n"
     ]
    }
   ],
   "source": [
    "# Adding an item to the end of the list using append()\n",
    "items.append(\"butter\")\n",
    "print(items)"
   ]
  },
  {
   "cell_type": "code",
   "execution_count": 14,
   "id": "a9522f46-fc6c-4d65-8988-10786e8abc58",
   "metadata": {},
   "outputs": [
    {
     "name": "stdout",
     "output_type": "stream",
     "text": [
      "['biryani', 'butter chicken', 'veggies', 'groceries', 'butter']\n"
     ]
    }
   ],
   "source": [
    "# Adding an item at a specific index using insert()\n",
    "items.insert(1, \"butter chicken\")\n",
    "print(items)"
   ]
  },
  {
   "cell_type": "code",
   "execution_count": 15,
   "id": "6b003835-415f-4f36-adec-6dbfb7c2b17f",
   "metadata": {},
   "outputs": [
    {
     "name": "stdout",
     "output_type": "stream",
     "text": [
      "['biryani', 'butter chicken', 'soap', 'shampoo', 'handwash']\n"
     ]
    }
   ],
   "source": [
    "# Joining two or more lists using the '+' operator\n",
    "food = [\"biryani\", \"butter chicken\"]\n",
    "bathroom = [\"soap\", \"shampoo\", \"handwash\"]\n",
    "items = food + bathroom\n",
    "print(items)"
   ]
  },
  {
   "cell_type": "code",
   "execution_count": 16,
   "id": "65ebbe1e-8b12-4eb3-adb6-a77a7f01df08",
   "metadata": {},
   "outputs": [
    {
     "ename": "TypeError",
     "evalue": "can only concatenate list (not \"str\") to list",
     "output_type": "error",
     "traceback": [
      "\u001b[1;31m------------------------------------------------------------\u001b[0m",
      "\u001b[1;31mTypeError\u001b[0m                  Traceback (most recent call last)",
      "Cell \u001b[1;32mIn[16], line 3\u001b[0m\n\u001b[0;32m      1\u001b[0m \u001b[38;5;66;03m# You cannot add a string to a list directly\u001b[39;00m\n\u001b[0;32m      2\u001b[0m \u001b[38;5;66;03m# Only another list can be added to a list\u001b[39;00m\n\u001b[1;32m----> 3\u001b[0m \u001b[38;5;28mprint\u001b[39m(\u001b[43mfood\u001b[49m\u001b[43m \u001b[49m\u001b[38;5;241;43m+\u001b[39;49m\u001b[43m \u001b[49m\u001b[38;5;124;43m\"\u001b[39;49m\u001b[38;5;124;43msoda\u001b[39;49m\u001b[38;5;124;43m\"\u001b[39;49m)\n",
      "\u001b[1;31mTypeError\u001b[0m: can only concatenate list (not \"str\") to list"
     ]
    }
   ],
   "source": [
    "# You cannot add a string to a list directly\n",
    "# Only another list can be added to a list\n",
    "print(food + \"soda\")"
   ]
  },
  {
   "cell_type": "code",
   "execution_count": 17,
   "id": "f3673c63-731e-40fe-80ad-706977973777",
   "metadata": {},
   "outputs": [
    {
     "name": "stdout",
     "output_type": "stream",
     "text": [
      "2\n"
     ]
    }
   ],
   "source": [
    "# Getting the number of items in a list using len()\n",
    "print(len(food))"
   ]
  },
  {
   "cell_type": "code",
   "execution_count": 18,
   "id": "755ca05d-f746-4c33-8e74-d6362451f417",
   "metadata": {},
   "outputs": [
    {
     "name": "stdout",
     "output_type": "stream",
     "text": [
      "True\n"
     ]
    }
   ],
   "source": [
    "# Checking if an item is present in a list using 'in'\n",
    "print(\"soap\" in items)"
   ]
  },
  {
   "cell_type": "code",
   "execution_count": null,
   "id": "8f06eedf-572d-4af3-b1ca-568d4e66a1a5",
   "metadata": {},
   "outputs": [],
   "source": []
  }
 ],
 "metadata": {
  "kernelspec": {
   "display_name": "Python 3 (ipykernel)",
   "language": "python",
   "name": "python3"
  },
  "language_info": {
   "codemirror_mode": {
    "name": "ipython",
    "version": 3
   },
   "file_extension": ".py",
   "mimetype": "text/x-python",
   "name": "python",
   "nbconvert_exporter": "python",
   "pygments_lexer": "ipython3",
   "version": "3.11.6"
  }
 },
 "nbformat": 4,
 "nbformat_minor": 5
}
